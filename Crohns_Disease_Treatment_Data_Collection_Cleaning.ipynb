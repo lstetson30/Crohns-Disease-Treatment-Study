{
 "cells": [
  {
   "cell_type": "markdown",
   "id": "4dd963cd",
   "metadata": {},
   "source": [
    "# Data Collection & Cleaning\n",
    "### This notebook contains the methods used to collect and clean the data"
   ]
  },
  {
   "cell_type": "code",
   "execution_count": 42,
   "id": "5e36f9e5",
   "metadata": {},
   "outputs": [],
   "source": [
    "# Pandas is a software library written for the Python programming language for data manipulation and analysis.\n",
    "import pandas as pd\n",
    "# NumPy is a library for the Python programming language, adding support for large, multi-dimensional arrays and matrices, along with a large collection of high-level mathematical functions to operate on these arrays\n",
    "import numpy as np\n",
    "# Matplotlib is a plotting library for python and pyplot gives us a MatLab like plotting framework. We will use this in our plotter function to plot data.\n",
    "import matplotlib.pyplot as plt"
   ]
  },
  {
   "cell_type": "code",
   "execution_count": 4,
   "id": "e4f55bfe",
   "metadata": {},
   "outputs": [
    {
     "data": {
      "text/html": [
       "<div>\n",
       "<style scoped>\n",
       "    .dataframe tbody tr th:only-of-type {\n",
       "        vertical-align: middle;\n",
       "    }\n",
       "\n",
       "    .dataframe tbody tr th {\n",
       "        vertical-align: top;\n",
       "    }\n",
       "\n",
       "    .dataframe thead th {\n",
       "        text-align: right;\n",
       "    }\n",
       "</style>\n",
       "<table border=\"1\" class=\"dataframe\">\n",
       "  <thead>\n",
       "    <tr style=\"text-align: right;\">\n",
       "      <th></th>\n",
       "      <th>Unnamed: 0</th>\n",
       "      <th>ID</th>\n",
       "      <th>nrAdvE</th>\n",
       "      <th>BMI</th>\n",
       "      <th>height</th>\n",
       "      <th>country</th>\n",
       "      <th>sex</th>\n",
       "      <th>age</th>\n",
       "      <th>weight</th>\n",
       "      <th>treat</th>\n",
       "    </tr>\n",
       "  </thead>\n",
       "  <tbody>\n",
       "    <tr>\n",
       "      <th>0</th>\n",
       "      <td>1</td>\n",
       "      <td>19908</td>\n",
       "      <td>4</td>\n",
       "      <td>25.22</td>\n",
       "      <td>163</td>\n",
       "      <td>c1</td>\n",
       "      <td>F</td>\n",
       "      <td>47</td>\n",
       "      <td>67</td>\n",
       "      <td>placebo</td>\n",
       "    </tr>\n",
       "    <tr>\n",
       "      <th>1</th>\n",
       "      <td>2</td>\n",
       "      <td>19909</td>\n",
       "      <td>4</td>\n",
       "      <td>23.80</td>\n",
       "      <td>164</td>\n",
       "      <td>c1</td>\n",
       "      <td>F</td>\n",
       "      <td>53</td>\n",
       "      <td>64</td>\n",
       "      <td>d1</td>\n",
       "    </tr>\n",
       "    <tr>\n",
       "      <th>2</th>\n",
       "      <td>3</td>\n",
       "      <td>19910</td>\n",
       "      <td>1</td>\n",
       "      <td>23.05</td>\n",
       "      <td>164</td>\n",
       "      <td>c1</td>\n",
       "      <td>F</td>\n",
       "      <td>68</td>\n",
       "      <td>62</td>\n",
       "      <td>placebo</td>\n",
       "    </tr>\n",
       "    <tr>\n",
       "      <th>3</th>\n",
       "      <td>4</td>\n",
       "      <td>20908</td>\n",
       "      <td>1</td>\n",
       "      <td>25.71</td>\n",
       "      <td>165</td>\n",
       "      <td>c1</td>\n",
       "      <td>F</td>\n",
       "      <td>48</td>\n",
       "      <td>70</td>\n",
       "      <td>d2</td>\n",
       "    </tr>\n",
       "    <tr>\n",
       "      <th>4</th>\n",
       "      <td>5</td>\n",
       "      <td>20909</td>\n",
       "      <td>2</td>\n",
       "      <td>25.95</td>\n",
       "      <td>170</td>\n",
       "      <td>c1</td>\n",
       "      <td>F</td>\n",
       "      <td>67</td>\n",
       "      <td>75</td>\n",
       "      <td>placebo</td>\n",
       "    </tr>\n",
       "  </tbody>\n",
       "</table>\n",
       "</div>"
      ],
      "text/plain": [
       "   Unnamed: 0     ID  nrAdvE    BMI  height country sex  age  weight    treat\n",
       "0           1  19908       4  25.22     163      c1   F   47      67  placebo\n",
       "1           2  19909       4  23.80     164      c1   F   53      64       d1\n",
       "2           3  19910       1  23.05     164      c1   F   68      62  placebo\n",
       "3           4  20908       1  25.71     165      c1   F   48      70       d2\n",
       "4           5  20909       2  25.95     170      c1   F   67      75  placebo"
      ]
     },
     "execution_count": 4,
     "metadata": {},
     "output_type": "execute_result"
    }
   ],
   "source": [
    "#Read .csv file to pandas dataframe\n",
    "df = pd.read_csv('https://raw.githubusercontent.com/lstetson30/Crohns-Disease-Treatment-Study/main/CrohnD.csv')\n",
    "df.head()"
   ]
  },
  {
   "cell_type": "code",
   "execution_count": 5,
   "id": "7ab45e88",
   "metadata": {
    "scrolled": true
   },
   "outputs": [
    {
     "data": {
      "text/html": [
       "<div>\n",
       "<style scoped>\n",
       "    .dataframe tbody tr th:only-of-type {\n",
       "        vertical-align: middle;\n",
       "    }\n",
       "\n",
       "    .dataframe tbody tr th {\n",
       "        vertical-align: top;\n",
       "    }\n",
       "\n",
       "    .dataframe thead th {\n",
       "        text-align: right;\n",
       "    }\n",
       "</style>\n",
       "<table border=\"1\" class=\"dataframe\">\n",
       "  <thead>\n",
       "    <tr style=\"text-align: right;\">\n",
       "      <th></th>\n",
       "      <th>ID</th>\n",
       "      <th>nrAdvE</th>\n",
       "      <th>BMI</th>\n",
       "      <th>height</th>\n",
       "      <th>country</th>\n",
       "      <th>sex</th>\n",
       "      <th>age</th>\n",
       "      <th>weight</th>\n",
       "      <th>treat</th>\n",
       "    </tr>\n",
       "  </thead>\n",
       "  <tbody>\n",
       "    <tr>\n",
       "      <th>0</th>\n",
       "      <td>19908</td>\n",
       "      <td>4</td>\n",
       "      <td>25.22</td>\n",
       "      <td>163</td>\n",
       "      <td>c1</td>\n",
       "      <td>F</td>\n",
       "      <td>47</td>\n",
       "      <td>67</td>\n",
       "      <td>placebo</td>\n",
       "    </tr>\n",
       "    <tr>\n",
       "      <th>1</th>\n",
       "      <td>19909</td>\n",
       "      <td>4</td>\n",
       "      <td>23.80</td>\n",
       "      <td>164</td>\n",
       "      <td>c1</td>\n",
       "      <td>F</td>\n",
       "      <td>53</td>\n",
       "      <td>64</td>\n",
       "      <td>d1</td>\n",
       "    </tr>\n",
       "    <tr>\n",
       "      <th>2</th>\n",
       "      <td>19910</td>\n",
       "      <td>1</td>\n",
       "      <td>23.05</td>\n",
       "      <td>164</td>\n",
       "      <td>c1</td>\n",
       "      <td>F</td>\n",
       "      <td>68</td>\n",
       "      <td>62</td>\n",
       "      <td>placebo</td>\n",
       "    </tr>\n",
       "    <tr>\n",
       "      <th>3</th>\n",
       "      <td>20908</td>\n",
       "      <td>1</td>\n",
       "      <td>25.71</td>\n",
       "      <td>165</td>\n",
       "      <td>c1</td>\n",
       "      <td>F</td>\n",
       "      <td>48</td>\n",
       "      <td>70</td>\n",
       "      <td>d2</td>\n",
       "    </tr>\n",
       "    <tr>\n",
       "      <th>4</th>\n",
       "      <td>20909</td>\n",
       "      <td>2</td>\n",
       "      <td>25.95</td>\n",
       "      <td>170</td>\n",
       "      <td>c1</td>\n",
       "      <td>F</td>\n",
       "      <td>67</td>\n",
       "      <td>75</td>\n",
       "      <td>placebo</td>\n",
       "    </tr>\n",
       "  </tbody>\n",
       "</table>\n",
       "</div>"
      ],
      "text/plain": [
       "      ID  nrAdvE    BMI  height country sex  age  weight    treat\n",
       "0  19908       4  25.22     163      c1   F   47      67  placebo\n",
       "1  19909       4  23.80     164      c1   F   53      64       d1\n",
       "2  19910       1  23.05     164      c1   F   68      62  placebo\n",
       "3  20908       1  25.71     165      c1   F   48      70       d2\n",
       "4  20909       2  25.95     170      c1   F   67      75  placebo"
      ]
     },
     "execution_count": 5,
     "metadata": {},
     "output_type": "execute_result"
    }
   ],
   "source": [
    "#Remove first column\n",
    "df.drop(['Unnamed: 0'], axis = 1, inplace = True)\n",
    "df.head()"
   ]
  },
  {
   "cell_type": "markdown",
   "id": "732960d9",
   "metadata": {},
   "source": [
    "#### The attributes are described as follows:\n",
    "|Attribute |Description                          |\n",
    "|:---------|:------------------------------------|\n",
    "|ID        |Unique Patient ID                    |\n",
    "|nrAdvE    |Number of adverse events             |\n",
    "|BMI       |Body mass index                      |\n",
    "|height    |Height in cm                         |\n",
    "|country   |country code (actual country unknown)|\n",
    "|sex       |Patient sex                          |\n",
    "|age       |Patient age                          |\n",
    "|weight    |Patient weight in kg                 |\n",
    "|treat     |Patient treatment type               |"
   ]
  },
  {
   "cell_type": "code",
   "execution_count": 8,
   "id": "fbcbf841",
   "metadata": {},
   "outputs": [
    {
     "name": "stdout",
     "output_type": "stream",
     "text": [
      "Number of patients:  117\n"
     ]
    }
   ],
   "source": [
    "#Check how many patients are in this dataset\n",
    "print('Number of patients: ', df.shape[0])"
   ]
  },
  {
   "cell_type": "code",
   "execution_count": 6,
   "id": "52c0bcf3",
   "metadata": {},
   "outputs": [
    {
     "data": {
      "text/plain": [
       "ID         0\n",
       "nrAdvE     0\n",
       "BMI        0\n",
       "height     0\n",
       "country    0\n",
       "sex        0\n",
       "age        0\n",
       "weight     0\n",
       "treat      0\n",
       "dtype: int64"
      ]
     },
     "execution_count": 6,
     "metadata": {},
     "output_type": "execute_result"
    }
   ],
   "source": [
    "#Check how many missing values for each attribute\n",
    "df.isnull().sum()"
   ]
  },
  {
   "cell_type": "code",
   "execution_count": 36,
   "id": "e2e10c72",
   "metadata": {},
   "outputs": [
    {
     "name": "stdout",
     "output_type": "stream",
     "text": [
      "Number of duplicate IDs:  0\n"
     ]
    }
   ],
   "source": [
    "#Check for ducplicate IDs\n",
    "print('Number of duplicate IDs: ', len(df) - len(df.drop_duplicates(subset = 'ID')))"
   ]
  },
  {
   "cell_type": "code",
   "execution_count": 44,
   "id": "16b01349",
   "metadata": {},
   "outputs": [
    {
     "data": {
      "text/plain": [
       "c1    78\n",
       "c2    39\n",
       "Name: country, dtype: int64"
      ]
     },
     "execution_count": 44,
     "metadata": {},
     "output_type": "execute_result"
    }
   ],
   "source": [
    "#Check for number of countries\n",
    "df['country'].value_counts()"
   ]
  },
  {
   "cell_type": "code",
   "execution_count": 45,
   "id": "95578458",
   "metadata": {},
   "outputs": [
    {
     "data": {
      "text/plain": [
       "F    100\n",
       "M     17\n",
       "Name: sex, dtype: int64"
      ]
     },
     "execution_count": 45,
     "metadata": {},
     "output_type": "execute_result"
    }
   ],
   "source": [
    "#Check for number of sexes\n",
    "df['sex'].value_counts()"
   ]
  },
  {
   "cell_type": "code",
   "execution_count": 46,
   "id": "bd48baee",
   "metadata": {},
   "outputs": [
    {
     "data": {
      "text/plain": [
       "placebo    39\n",
       "d1         39\n",
       "d2         39\n",
       "Name: treat, dtype: int64"
      ]
     },
     "execution_count": 46,
     "metadata": {},
     "output_type": "execute_result"
    }
   ],
   "source": [
    "#Check for number of treatment types\n",
    "df['treat'].value_counts()"
   ]
  },
  {
   "cell_type": "code",
   "execution_count": 9,
   "id": "1f9e669f",
   "metadata": {
    "scrolled": false
   },
   "outputs": [
    {
     "data": {
      "text/plain": [
       "ID           int64\n",
       "nrAdvE       int64\n",
       "BMI        float64\n",
       "height       int64\n",
       "country     object\n",
       "sex         object\n",
       "age          int64\n",
       "weight       int64\n",
       "treat       object\n",
       "dtype: object"
      ]
     },
     "execution_count": 9,
     "metadata": {},
     "output_type": "execute_result"
    }
   ],
   "source": [
    "#Check the datatypes of each attribute\n",
    "df.dtypes"
   ]
  },
  {
   "cell_type": "markdown",
   "id": "74ab7f75",
   "metadata": {},
   "source": [
    "---------------------------"
   ]
  },
  {
   "cell_type": "markdown",
   "id": "7bc5749f",
   "metadata": {},
   "source": [
    "#### Initial visualization of the data to find erroneous data entries & make initial observations"
   ]
  },
  {
   "cell_type": "markdown",
   "id": "9662affb",
   "metadata": {},
   "source": [
    "### BMI:"
   ]
  },
  {
   "cell_type": "code",
   "execution_count": 40,
   "id": "5da64c97",
   "metadata": {},
   "outputs": [
    {
     "data": {
      "text/plain": [
       "<AxesSubplot:xlabel='index', ylabel='BMI'>"
      ]
     },
     "execution_count": 40,
     "metadata": {},
     "output_type": "execute_result"
    },
    {
     "data": {
      "image/png": "[encoded data removed]",
      "text/plain": [
       "<Figure size 432x288 with 1 Axes>"
      ]
     },
     "metadata": {
      "needs_background": "light"
     },
     "output_type": "display_data"
    }
   ],
   "source": [
    "df.reset_index().plot(kind = 'scatter', x = 'index', y = 'BMI')"
   ]
  },
  {
   "cell_type": "markdown",
   "id": "b60fcd1b",
   "metadata": {},
   "source": [
    "### Height:"
   ]
  },
  {
   "cell_type": "code",
   "execution_count": 27,
   "id": "da70dbf7",
   "metadata": {},
   "outputs": [
    {
     "data": {
      "text/plain": [
       "<AxesSubplot:xlabel='index', ylabel='Height (cm)'>"
      ]
     },
     "execution_count": 27,
     "metadata": {},
     "output_type": "execute_result"
    },
    {
     "data": {
      "image/png": "[encoded data removed]",
      "text/plain": [
       "<Figure size 432x288 with 1 Axes>"
      ]
     },
     "metadata": {
      "needs_background": "light"
     },
     "output_type": "display_data"
    }
   ],
   "source": [
    "df.reset_index().plot(kind = 'scatter', x = 'index', y = 'height', ylabel = 'Height (cm)')"
   ]
  },
  {
   "cell_type": "markdown",
   "id": "555198b0",
   "metadata": {},
   "source": [
    "One height seems to be abnormally low.  Check to see if this is an error"
   ]
  },
  {
   "cell_type": "code",
   "execution_count": 23,
   "id": "0aef1409",
   "metadata": {},
   "outputs": [
    {
     "data": {
      "text/html": [
       "<div>\n",
       "<style scoped>\n",
       "    .dataframe tbody tr th:only-of-type {\n",
       "        vertical-align: middle;\n",
       "    }\n",
       "\n",
       "    .dataframe tbody tr th {\n",
       "        vertical-align: top;\n",
       "    }\n",
       "\n",
       "    .dataframe thead th {\n",
       "        text-align: right;\n",
       "    }\n",
       "</style>\n",
       "<table border=\"1\" class=\"dataframe\">\n",
       "  <thead>\n",
       "    <tr style=\"text-align: right;\">\n",
       "      <th></th>\n",
       "      <th>ID</th>\n",
       "      <th>nrAdvE</th>\n",
       "      <th>BMI</th>\n",
       "      <th>height</th>\n",
       "      <th>country</th>\n",
       "      <th>sex</th>\n",
       "      <th>age</th>\n",
       "      <th>weight</th>\n",
       "      <th>treat</th>\n",
       "      <th>Success</th>\n",
       "    </tr>\n",
       "  </thead>\n",
       "  <tbody>\n",
       "    <tr>\n",
       "      <th>72</th>\n",
       "      <td>28911</td>\n",
       "      <td>9</td>\n",
       "      <td>42.27</td>\n",
       "      <td>124</td>\n",
       "      <td>c1</td>\n",
       "      <td>M</td>\n",
       "      <td>40</td>\n",
       "      <td>65</td>\n",
       "      <td>d1</td>\n",
       "      <td>0</td>\n",
       "    </tr>\n",
       "  </tbody>\n",
       "</table>\n",
       "</div>"
      ],
      "text/plain": [
       "       ID  nrAdvE    BMI  height country sex  age  weight treat  Success\n",
       "72  28911       9  42.27     124      c1   M   40      65    d1        0"
      ]
     },
     "execution_count": 23,
     "metadata": {},
     "output_type": "execute_result"
    }
   ],
   "source": [
    "df.loc[df['height'] < 140]"
   ]
  },
  {
   "cell_type": "markdown",
   "id": "e73fdcfd",
   "metadata": {},
   "source": [
    "Although this patient's height is an outlier, it is not an unrealistic value"
   ]
  },
  {
   "cell_type": "markdown",
   "id": "cf5e9550",
   "metadata": {},
   "source": [
    "### Weight:"
   ]
  },
  {
   "cell_type": "code",
   "execution_count": 28,
   "id": "f85acc55",
   "metadata": {
    "scrolled": false
   },
   "outputs": [
    {
     "data": {
      "text/plain": [
       "<AxesSubplot:xlabel='index', ylabel='Weight (kg)'>"
      ]
     },
     "execution_count": 28,
     "metadata": {},
     "output_type": "execute_result"
    },
    {
     "data": {
      "image/png": "[encoded data removed]",
      "text/plain": [
       "<Figure size 432x288 with 1 Axes>"
      ]
     },
     "metadata": {
      "needs_background": "light"
     },
     "output_type": "display_data"
    }
   ],
   "source": [
    "df.reset_index().plot(kind = 'scatter', x = 'index', y = 'weight', ylabel = 'Weight (kg)')"
   ]
  },
  {
   "cell_type": "markdown",
   "id": "9c10748b",
   "metadata": {},
   "source": [
    "There does not seem to be any significant outliers"
   ]
  },
  {
   "cell_type": "markdown",
   "id": "920ecfe2",
   "metadata": {},
   "source": [
    "### Age:"
   ]
  },
  {
   "cell_type": "code",
   "execution_count": 41,
   "id": "3f994bab",
   "metadata": {
    "scrolled": false
   },
   "outputs": [
    {
     "data": {
      "text/plain": [
       "<AxesSubplot:xlabel='index', ylabel='age'>"
      ]
     },
     "execution_count": 41,
     "metadata": {},
     "output_type": "execute_result"
    },
    {
     "data": {
      "image/png": "[encoded data removed]",
      "text/plain": [
       "<Figure size 432x288 with 1 Axes>"
      ]
     },
     "metadata": {
      "needs_background": "light"
     },
     "output_type": "display_data"
    }
   ],
   "source": [
    "df.reset_index().plot(kind = 'scatter', x = 'index', y = 'age')"
   ]
  },
  {
   "cell_type": "markdown",
   "id": "08ab9503",
   "metadata": {},
   "source": [
    "### Number of Adverse Events:"
   ]
  },
  {
   "cell_type": "code",
   "execution_count": 60,
   "id": "e5d9d6a7",
   "metadata": {
    "scrolled": true
   },
   "outputs": [
    {
     "data": {
      "text/plain": [
       "Text(0, 0.5, 'Count')"
      ]
     },
     "execution_count": 60,
     "metadata": {},
     "output_type": "execute_result"
    },
    {
     "data": {
      "image/png": "[encoded data removed]",
      "text/plain": [
       "<Figure size 432x288 with 1 Axes>"
      ]
     },
     "metadata": {
      "needs_background": "light"
     },
     "output_type": "display_data"
    }
   ],
   "source": [
    "plt.hist(df['nrAdvE'], bins = df['nrAdvE'].max())[2]\n",
    "plt.xlabel('# of Adverse Events')\n",
    "plt.ylabel('Count')"
   ]
  },
  {
   "cell_type": "markdown",
   "id": "195fd770",
   "metadata": {},
   "source": [
    "-----------------------"
   ]
  },
  {
   "cell_type": "markdown",
   "id": "055b3c0a",
   "metadata": {},
   "source": [
    "#### In order to ultimately make a classification model to predict the success of a given patient, a binary attribute will be created where a success is defined as a patient with no adverse events"
   ]
  },
  {
   "cell_type": "code",
   "execution_count": 61,
   "id": "eacbd70a",
   "metadata": {},
   "outputs": [
    {
     "data": {
      "text/html": [
       "<div>\n",
       "<style scoped>\n",
       "    .dataframe tbody tr th:only-of-type {\n",
       "        vertical-align: middle;\n",
       "    }\n",
       "\n",
       "    .dataframe tbody tr th {\n",
       "        vertical-align: top;\n",
       "    }\n",
       "\n",
       "    .dataframe thead th {\n",
       "        text-align: right;\n",
       "    }\n",
       "</style>\n",
       "<table border=\"1\" class=\"dataframe\">\n",
       "  <thead>\n",
       "    <tr style=\"text-align: right;\">\n",
       "      <th></th>\n",
       "      <th>nrAdvE</th>\n",
       "      <th>success</th>\n",
       "    </tr>\n",
       "  </thead>\n",
       "  <tbody>\n",
       "    <tr>\n",
       "      <th>0</th>\n",
       "      <td>4</td>\n",
       "      <td>0</td>\n",
       "    </tr>\n",
       "    <tr>\n",
       "      <th>1</th>\n",
       "      <td>4</td>\n",
       "      <td>0</td>\n",
       "    </tr>\n",
       "    <tr>\n",
       "      <th>2</th>\n",
       "      <td>1</td>\n",
       "      <td>0</td>\n",
       "    </tr>\n",
       "    <tr>\n",
       "      <th>3</th>\n",
       "      <td>1</td>\n",
       "      <td>0</td>\n",
       "    </tr>\n",
       "    <tr>\n",
       "      <th>4</th>\n",
       "      <td>2</td>\n",
       "      <td>0</td>\n",
       "    </tr>\n",
       "    <tr>\n",
       "      <th>5</th>\n",
       "      <td>2</td>\n",
       "      <td>0</td>\n",
       "    </tr>\n",
       "    <tr>\n",
       "      <th>6</th>\n",
       "      <td>3</td>\n",
       "      <td>0</td>\n",
       "    </tr>\n",
       "    <tr>\n",
       "      <th>7</th>\n",
       "      <td>0</td>\n",
       "      <td>1</td>\n",
       "    </tr>\n",
       "    <tr>\n",
       "      <th>8</th>\n",
       "      <td>1</td>\n",
       "      <td>0</td>\n",
       "    </tr>\n",
       "    <tr>\n",
       "      <th>9</th>\n",
       "      <td>0</td>\n",
       "      <td>1</td>\n",
       "    </tr>\n",
       "  </tbody>\n",
       "</table>\n",
       "</div>"
      ],
      "text/plain": [
       "   nrAdvE  success\n",
       "0       4        0\n",
       "1       4        0\n",
       "2       1        0\n",
       "3       1        0\n",
       "4       2        0\n",
       "5       2        0\n",
       "6       3        0\n",
       "7       0        1\n",
       "8       1        0\n",
       "9       0        1"
      ]
     },
     "execution_count": 61,
     "metadata": {},
     "output_type": "execute_result"
    }
   ],
   "source": [
    "#Create a column to classify a treatment as success (nrAdvE = 0) or not (nrAdv > 0)\n",
    "success = []\n",
    "for i in df['nrAdvE']:\n",
    "    if i == 0:\n",
    "        success.append(1)\n",
    "    else:\n",
    "        success.append(0)\n",
    "\n",
    "df['success']=success\n",
    "df[['nrAdvE', 'success']].head(10)"
   ]
  },
  {
   "cell_type": "code",
   "execution_count": 62,
   "id": "17cf4c95",
   "metadata": {},
   "outputs": [
    {
     "data": {
      "text/plain": [
       "0    67\n",
       "1    50\n",
       "Name: success, dtype: int64"
      ]
     },
     "execution_count": 62,
     "metadata": {},
     "output_type": "execute_result"
    }
   ],
   "source": [
    "df['success'].value_counts()"
   ]
  },
  {
   "cell_type": "markdown",
   "id": "9bcab360",
   "metadata": {},
   "source": [
    "The df is now written to a csv file (code cell removed) and committed to the Github repository containing this project."
   ]
  },
  {
   "cell_type": "code",
   "execution_count": 65,
   "id": "906f984d",
   "metadata": {
    "tags": [
     "remove-cell"
    ]
   },
   "outputs": [],
   "source": [
    "#Write cleaned dataframe to .csv local file (Will be commited to Github repository)\n",
    "df.to_csv(r\"C:\\Users\\thele\\OneDrive\\Documents\\Crohns Datasets\\crohns_cleaned_data.csv\", index=False)"
   ]
  },
  {
   "cell_type": "code",
   "execution_count": null,
   "id": "3bad94ca",
   "metadata": {},
   "outputs": [],
   "source": []
  }
 ],
 "metadata": {
  "kernelspec": {
   "display_name": "Python 3 (ipykernel)",
   "language": "python",
   "name": "python3"
  },
  "language_info": {
   "codemirror_mode": {
    "name": "ipython",
    "version": 3
   },
   "file_extension": ".py",
   "mimetype": "text/x-python",
   "name": "python",
   "nbconvert_exporter": "python",
   "pygments_lexer": "ipython3",
   "version": "3.9.7"
  }
 },
 "nbformat": 4,
 "nbformat_minor": 5
}
